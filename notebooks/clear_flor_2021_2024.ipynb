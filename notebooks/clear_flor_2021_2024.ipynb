{
 "cells": [
  {
   "cell_type": "code",
   "execution_count": 27,
   "metadata": {},
   "outputs": [],
   "source": [
    "# Importación de librerías necesarias\n",
    "import pandas as pd\n",
    "import numpy as np\n",
    "import matplotlib.pyplot as plt\n",
    "import seaborn as sns\n",
    "import os"
   ]
  },
  {
   "cell_type": "code",
   "execution_count": 22,
   "metadata": {},
   "outputs": [
    {
     "name": "stdout",
     "output_type": "stream",
     "text": [
      "Shape del dataset: (255199, 4)\n",
      "     DueDate        Flower     Color  Stems\n",
      "0 2021-03-21  Alstroemeria  Assorted    372\n",
      "1 2021-06-09  Alstroemeria  Assorted    480\n",
      "2 2022-08-03  Alstroemeria  Assorted    120\n",
      "3 2022-12-30  Alstroemeria  Assorted     50\n",
      "4 2023-03-30  Alstroemeria  Assorted    550\n"
     ]
    }
   ],
   "source": [
    "# Ruta al archivo xlsx 'flor_2021_2024' en la hoja 'Planning'\n",
    "\n",
    "file_path = '../data/raw/flor_2021_2024.xlsx'\n",
    "\n",
    "# Cargar el dataset desde la hoja \"Planning\"\n",
    "df = pd.read_excel(file_path, sheet_name='Planning')\n",
    "\n",
    "# Mostrar la forma y las primeras filas del dataset\n",
    "print(f\"Shape del dataset: {df.shape}\")\n",
    "print(df.head())"
   ]
  },
  {
   "cell_type": "code",
   "execution_count": 23,
   "metadata": {},
   "outputs": [
    {
     "name": "stdout",
     "output_type": "stream",
     "text": [
      "Columnas de fecha creadas correctamente.\n"
     ]
    }
   ],
   "source": [
    "# Eliminar espacios en blanco de los nombres de las columnas\n",
    "df.columns = df.columns.str.strip()\n",
    "\n",
    "# Agregar columnas de año, mes y día a partir de la columna 'DueDate'\n",
    "df['Year'] = df['DueDate'].dt.year\n",
    "df['Month'] = df['DueDate'].dt.month\n",
    "df['Day'] = df['DueDate'].dt.day\n",
    "\n",
    "# Verificar que las columnas de fecha se hayan creado correctamente\n",
    "if all(col in df.columns for col in ['Year', 'Month', 'Day']):\n",
    "    print(\"Columnas de fecha creadas correctamente.\")\n",
    "\n",
    "# Eliminar la columna 'DueDate'\n",
    "df.drop(columns=['DueDate'], inplace=True)"
   ]
  },
  {
   "cell_type": "code",
   "execution_count": 24,
   "metadata": {},
   "outputs": [
    {
     "name": "stdout",
     "output_type": "stream",
     "text": [
      "Columnas de fecha creadas correctamente.\n"
     ]
    }
   ],
   "source": [
    "# Convertir las columnas de fecha añoa, mes y día a tipo datetime\n",
    "df['DueDate'] = pd.to_datetime(df[['Year', 'Month', 'Day']])\n",
    "\n",
    "# Verificar que las columnas de fecha se hayan creado correctamente\n",
    "if all(col in df.columns for col in ['Year', 'Month', 'Day']):\n",
    "\n",
    "    print(\"Columnas de fecha creadas correctamente.\")"
   ]
  },
  {
   "cell_type": "code",
   "execution_count": 25,
   "metadata": {},
   "outputs": [
    {
     "name": "stdout",
     "output_type": "stream",
     "text": [
      "         Flower     Color  Stems  Year  Month  Day    DueDate\n",
      "0  Alstroemeria  Assorted    372  2021      3   21 2021-03-21\n",
      "1  Alstroemeria  Assorted    480  2021      6    9 2021-06-09\n",
      "2  Alstroemeria  Assorted    120  2022      8    3 2022-08-03\n",
      "3  Alstroemeria  Assorted     50  2022     12   30 2022-12-30\n",
      "4  Alstroemeria  Assorted    550  2023      3   30 2023-03-30\n",
      "         Flower                             Color  Stems  Year  Month  Day  \\\n",
      "255194  Cushion  YW Graffiti Electric GR/Light BL   6804  2024      3   12   \n",
      "255195  Cushion  YW Graffiti Electric GR/Light BL   6720  2024      3   13   \n",
      "255196  Cushion  YW Graffiti Electric GR/Light BL   6720  2024      3   14   \n",
      "255197  Cushion  YW Graffiti Electric GR/Light BL   7350  2024      3   15   \n",
      "255198  Cushion  YW Graffiti Electric GR/Light BL   7280  2024      3   16   \n",
      "\n",
      "          DueDate  \n",
      "255194 2024-03-12  \n",
      "255195 2024-03-13  \n",
      "255196 2024-03-14  \n",
      "255197 2024-03-15  \n",
      "255198 2024-03-16  \n",
      "<class 'pandas.core.frame.DataFrame'>\n",
      "RangeIndex: 255199 entries, 0 to 255198\n",
      "Data columns (total 7 columns):\n",
      " #   Column   Non-Null Count   Dtype         \n",
      "---  ------   --------------   -----         \n",
      " 0   Flower   255199 non-null  object        \n",
      " 1   Color    255199 non-null  object        \n",
      " 2   Stems    255199 non-null  int64         \n",
      " 3   Year     255199 non-null  int32         \n",
      " 4   Month    255199 non-null  int32         \n",
      " 5   Day      255199 non-null  int32         \n",
      " 6   DueDate  255199 non-null  datetime64[ns]\n",
      "dtypes: datetime64[ns](1), int32(3), int64(1), object(2)\n",
      "memory usage: 10.7+ MB\n",
      "None\n",
      "               Stems           Year          Month            Day  \\\n",
      "count  255199.000000  255199.000000  255199.000000  255199.000000   \n",
      "mean     2654.547353    2022.498047       6.379837      15.775324   \n",
      "min         1.000000    2021.000000       1.000000       1.000000   \n",
      "25%       210.000000    2022.000000       3.000000       8.000000   \n",
      "50%       879.000000    2023.000000       6.000000      16.000000   \n",
      "75%      2791.000000    2023.000000       9.000000      23.000000   \n",
      "max    301415.000000    2024.000000      12.000000      31.000000   \n",
      "std      5565.783533       1.102841       3.358621       8.798452   \n",
      "\n",
      "                             DueDate  \n",
      "count                         255199  \n",
      "mean   2022-12-26 13:49:05.536620800  \n",
      "min              2021-01-01 00:00:00  \n",
      "25%              2022-01-09 00:00:00  \n",
      "50%              2023-01-06 00:00:00  \n",
      "75%              2023-12-16 00:00:00  \n",
      "max              2024-11-02 00:00:00  \n",
      "std                              NaN  \n"
     ]
    }
   ],
   "source": [
    "# Mostrar las primeras filas del dataframe\n",
    "print(df.head())\n",
    "\n",
    "# Mostrar las últimas filas del dataframe\n",
    "print(df.tail())\n",
    "\n",
    "# Mostrar información general del dataframe\n",
    "print(df.info())\n",
    "\n",
    "# Mostrar estadísticas descriptivas del dataframe\n",
    "print(df.describe())"
   ]
  },
  {
   "cell_type": "code",
   "execution_count": 26,
   "metadata": {},
   "outputs": [
    {
     "name": "stdout",
     "output_type": "stream",
     "text": [
      "\n",
      "Dataset limpio guardado en: ../data/processed/flor_2021_2024_cleaned.csv\n"
     ]
    }
   ],
   "source": [
    "# Guardar el dataset limpio en un nuevo archivo CSV\n",
    "output_path = '../data/processed/flor_2021_2024_cleaned.csv'\n",
    "df.to_csv(output_path, index=False)\n",
    "print(f\"\\nDataset limpio guardado en: {output_path}\")  "
   ]
  }
 ],
 "metadata": {
  "kernelspec": {
   "display_name": "venv",
   "language": "python",
   "name": "python3"
  },
  "language_info": {
   "codemirror_mode": {
    "name": "ipython",
    "version": 3
   },
   "file_extension": ".py",
   "mimetype": "text/x-python",
   "name": "python",
   "nbconvert_exporter": "python",
   "pygments_lexer": "ipython3",
   "version": "3.12.5"
  }
 },
 "nbformat": 4,
 "nbformat_minor": 2
}
