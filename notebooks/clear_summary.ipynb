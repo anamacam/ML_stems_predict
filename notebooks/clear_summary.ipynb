{
 "cells": [
  {
   "cell_type": "code",
   "execution_count": 51,
   "metadata": {},
   "outputs": [],
   "source": [
    "# Importación de librerías necesarias\n",
    "import pandas as pd\n",
    "import numpy as np\n",
    "import matplotlib.pyplot as plt\n",
    "import seaborn as sns\n",
    "import os"
   ]
  },
  {
   "cell_type": "code",
   "execution_count": 52,
   "metadata": {},
   "outputs": [
    {
     "name": "stdout",
     "output_type": "stream",
     "text": [
      "Shape del dataset: (12767, 4)\n"
     ]
    },
    {
     "data": {
      "application/vnd.microsoft.datawrangler.viewer.v0+json": {
       "columns": [
        {
         "name": "index",
         "rawType": "int64",
         "type": "integer"
        },
        {
         "name": "Date",
         "rawType": "object",
         "type": "string"
        },
        {
         "name": "Flower",
         "rawType": "object",
         "type": "string"
        },
        {
         "name": "Color",
         "rawType": "object",
         "type": "string"
        },
        {
         "name": "Units Selection",
         "rawType": "int64",
         "type": "integer"
        }
       ],
       "conversionMethod": "pd.DataFrame",
       "ref": "dd97b71a-414a-4c9c-b586-3ed4c14880ec",
       "rows": [
        [
         "0",
         "01/10/2024 0:00",
         "Alstroemeria",
         "Burgundy",
         "0"
        ],
        [
         "1",
         "01/10/2024 0:00",
         "Alstroemeria",
         "DarkPink",
         "11200"
        ],
        [
         "2",
         "01/10/2024 0:00",
         "Alstroemeria",
         "Green",
         "0"
        ],
        [
         "3",
         "01/10/2024 0:00",
         "Alstroemeria",
         "Lavender",
         "2400"
        ],
        [
         "4",
         "01/10/2024 0:00",
         "Alstroemeria",
         "Orange",
         "6000"
        ]
       ],
       "shape": {
        "columns": 4,
        "rows": 5
       }
      },
      "text/html": [
       "<div>\n",
       "<style scoped>\n",
       "    .dataframe tbody tr th:only-of-type {\n",
       "        vertical-align: middle;\n",
       "    }\n",
       "\n",
       "    .dataframe tbody tr th {\n",
       "        vertical-align: top;\n",
       "    }\n",
       "\n",
       "    .dataframe thead th {\n",
       "        text-align: right;\n",
       "    }\n",
       "</style>\n",
       "<table border=\"1\" class=\"dataframe\">\n",
       "  <thead>\n",
       "    <tr style=\"text-align: right;\">\n",
       "      <th></th>\n",
       "      <th>Date</th>\n",
       "      <th>Flower</th>\n",
       "      <th>Color</th>\n",
       "      <th>Units Selection</th>\n",
       "    </tr>\n",
       "  </thead>\n",
       "  <tbody>\n",
       "    <tr>\n",
       "      <th>0</th>\n",
       "      <td>01/10/2024 0:00</td>\n",
       "      <td>Alstroemeria</td>\n",
       "      <td>Burgundy</td>\n",
       "      <td>0</td>\n",
       "    </tr>\n",
       "    <tr>\n",
       "      <th>1</th>\n",
       "      <td>01/10/2024 0:00</td>\n",
       "      <td>Alstroemeria</td>\n",
       "      <td>DarkPink</td>\n",
       "      <td>11200</td>\n",
       "    </tr>\n",
       "    <tr>\n",
       "      <th>2</th>\n",
       "      <td>01/10/2024 0:00</td>\n",
       "      <td>Alstroemeria</td>\n",
       "      <td>Green</td>\n",
       "      <td>0</td>\n",
       "    </tr>\n",
       "    <tr>\n",
       "      <th>3</th>\n",
       "      <td>01/10/2024 0:00</td>\n",
       "      <td>Alstroemeria</td>\n",
       "      <td>Lavender</td>\n",
       "      <td>2400</td>\n",
       "    </tr>\n",
       "    <tr>\n",
       "      <th>4</th>\n",
       "      <td>01/10/2024 0:00</td>\n",
       "      <td>Alstroemeria</td>\n",
       "      <td>Orange</td>\n",
       "      <td>6000</td>\n",
       "    </tr>\n",
       "  </tbody>\n",
       "</table>\n",
       "</div>"
      ],
      "text/plain": [
       "              Date        Flower     Color  Units Selection\n",
       "0  01/10/2024 0:00  Alstroemeria  Burgundy                0\n",
       "1  01/10/2024 0:00  Alstroemeria  DarkPink            11200\n",
       "2  01/10/2024 0:00  Alstroemeria     Green                0\n",
       "3  01/10/2024 0:00  Alstroemeria  Lavender             2400\n",
       "4  01/10/2024 0:00  Alstroemeria    Orange             6000"
      ]
     },
     "execution_count": 52,
     "metadata": {},
     "output_type": "execute_result"
    }
   ],
   "source": [
    "# Ruta al archivo CSV\n",
    "file_path = '../data/raw/Summary.csv'\n",
    "\n",
    "# Cargar el dataset con el separador correcto\n",
    "df = pd.read_csv(file_path, sep=';')  # Usar punto y coma como separador\n",
    "\n",
    "# Mostrar las primeras filas\n",
    "print(f\"Shape del dataset: {df.shape}\")\n",
    "df.head()"
   ]
  },
  {
   "cell_type": "code",
   "execution_count": 53,
   "metadata": {},
   "outputs": [
    {
     "name": "stdout",
     "output_type": "stream",
     "text": [
      "Información del dataset:\n",
      "<class 'pandas.core.frame.DataFrame'>\n",
      "RangeIndex: 12767 entries, 0 to 12766\n",
      "Data columns (total 4 columns):\n",
      " #   Column           Non-Null Count  Dtype \n",
      "---  ------           --------------  ----- \n",
      " 0   Date             12767 non-null  object\n",
      " 1   Flower           12767 non-null  object\n",
      " 2   Color            12767 non-null  object\n",
      " 3   Units Selection  12767 non-null  int64 \n",
      "dtypes: int64(1), object(3)\n",
      "memory usage: 399.1+ KB\n",
      "\n",
      "Estadísticas descriptivas de la columnas 'Flower' y 'Color':\n",
      "\n",
      "Estadísticas descriptivas de la columna 'Units Selection':\n"
     ]
    },
    {
     "data": {
      "text/plain": [
       "count    12767.000000\n",
       "mean      3710.346048\n",
       "std       6028.213003\n",
       "min          0.000000\n",
       "25%        400.000000\n",
       "50%       1700.000000\n",
       "75%       4580.000000\n",
       "max      82512.000000\n",
       "Name: Units Selection, dtype: float64"
      ]
     },
     "execution_count": 53,
     "metadata": {},
     "output_type": "execute_result"
    }
   ],
   "source": [
    "# Información general del dataset\n",
    "print(\"Información del dataset:\")\n",
    "df.info()\n",
    "\n",
    "# Estadísticas descriptivas de la columnas 'Flower' y 'Color'\n",
    "print(\"\\nEstadísticas descriptivas de la columnas 'Flower' y 'Color':\")\n",
    "df[['Flower', 'Color']].describe()\n",
    "\n",
    "# Estadísticas descriptivas de la columna 'Units Selection'\n",
    "print(\"\\nEstadísticas descriptivas de la columna 'Units Selection':\")\n",
    "df['Units Selection'].describe()"
   ]
  },
  {
   "cell_type": "code",
   "execution_count": 54,
   "metadata": {},
   "outputs": [
    {
     "name": "stdout",
     "output_type": "stream",
     "text": [
      "\n",
      "Flower - 77 valores únicos:\n",
      "Flower\n",
      "Daisy            1087\n",
      "Novelty           953\n",
      "Cushion           916\n",
      "Carnation         891\n",
      "Cremon            737\n",
      "Minicarnation     728\n",
      "Alstroemeria      614\n",
      "Rose - Color      544\n",
      "Mum Ball          500\n",
      "Rose - Spray      495\n",
      "Name: count, dtype: int64\n",
      "\n",
      "Color - 60 valores únicos:\n",
      "Color\n",
      "White       1338\n",
      "Green       1221\n",
      "Yellow      1146\n",
      "Purple      1091\n",
      "Pink         970\n",
      "Lavender     782\n",
      "Red          709\n",
      "DarkPink     680\n",
      "Orange       448\n",
      "Peach        414\n",
      "Name: count, dtype: int64\n"
     ]
    }
   ],
   "source": [
    "# Valores únicos por columna categórica\n",
    "for col in ['Flower', 'Color']:\n",
    "    print(f\"\\n{col} - {df[col].nunique()} valores únicos:\")\n",
    "    print(df[col].value_counts().head(10))"
   ]
  },
  {
   "cell_type": "code",
   "execution_count": 55,
   "metadata": {},
   "outputs": [
    {
     "name": "stdout",
     "output_type": "stream",
     "text": [
      "\n",
      "Primeras 10 fechas originales como texto crudo:\n",
      "01/10/2024 0:00\n",
      "01/10/2024 0:00\n",
      "01/10/2024 0:00\n",
      "01/10/2024 0:00\n",
      "01/10/2024 0:00\n",
      "01/10/2024 0:00\n",
      "01/10/2024 0:00\n",
      "01/10/2024 0:00\n",
      "01/10/2024 0:00\n",
      "01/10/2024 0:00\n"
     ]
    }
   ],
   "source": [
    "# Mostrar las primeras 10 fechas originales como texto crudo\n",
    "print(\"\\nPrimeras 10 fechas originales como texto crudo:\")\n",
    "print(df['Date'].head(10).to_string(index=False))"
   ]
  },
  {
   "cell_type": "code",
   "execution_count": 56,
   "metadata": {},
   "outputs": [
    {
     "name": "stdout",
     "output_type": "stream",
     "text": [
      "              Date        Flower     Color  Units Selection\n",
      "0  01/10/2024 0:00  Alstroemeria  Burgundy                0\n",
      "1  01/10/2024 0:00  Alstroemeria  DarkPink            11200\n",
      "2  01/10/2024 0:00  Alstroemeria     Green                0\n",
      "3  01/10/2024 0:00  Alstroemeria  Lavender             2400\n",
      "4  01/10/2024 0:00  Alstroemeria    Orange             6000\n"
     ]
    },
    {
     "name": "stderr",
     "output_type": "stream",
     "text": [
      "C:\\Users\\User\\AppData\\Local\\Temp\\ipykernel_17452\\314458496.py:2: FutureWarning: DataFrame.applymap has been deprecated. Use DataFrame.map instead.\n",
      "  df = df.applymap(lambda x: x.strip() if isinstance(x, str) else x)\n"
     ]
    }
   ],
   "source": [
    "# Eliminar espacios en blanco de las columnas de tipo object\n",
    "df = df.applymap(lambda x: x.strip() if isinstance(x, str) else x)\n",
    "\n",
    "# Verificar que los espacios en blanco hayan sido eliminados\n",
    "print(df.head())"
   ]
  },
  {
   "cell_type": "code",
   "execution_count": 57,
   "metadata": {},
   "outputs": [
    {
     "name": "stdout",
     "output_type": "stream",
     "text": [
      "Se eliminaron 0 filas duplicadas.\n",
      "\n",
      "Conteo de valores nulos por columna:\n",
      "Series([], dtype: int64)\n"
     ]
    }
   ],
   "source": [
    "# Crear una copia del dataframe original\n",
    "df_clean = df.copy()\n",
    "\n",
    "# Paso 1: Eliminar filas duplicadas\n",
    "duplicados_antes = df_clean.shape[0]\n",
    "df_clean = df_clean.drop_duplicates()\n",
    "duplicados_eliminados = duplicados_antes - df_clean.shape[0]\n",
    "print(f\"Se eliminaron {duplicados_eliminados} filas duplicadas.\")\n",
    "\n",
    "# Paso 2: Verificar valores nulos\n",
    "null_counts = df_clean.isnull().sum()\n",
    "print(\"\\nConteo de valores nulos por columna:\")\n",
    "print(null_counts[null_counts > 0])"
   ]
  },
  {
   "cell_type": "code",
   "execution_count": 58,
   "metadata": {},
   "outputs": [
    {
     "name": "stdout",
     "output_type": "stream",
     "text": [
      "\n",
      "Errores en la conversión de fechas: 0 filas con fecha inválida.\n"
     ]
    }
   ],
   "source": [
    "# Limpieza básica\n",
    "df_clean['Date'] = df_clean['Date'].astype(str).str.strip()\n",
    "\n",
    "# Conversión automática sin formato fijo\n",
    "df_clean['Date'] = pd.to_datetime(df_clean['Date'], errors='coerce', dayfirst=True)\n",
    "\n",
    "# Formatear como ISO si lo necesitas en string\n",
    "df_clean['Date'] = df_clean['Date'].dt.strftime('%Y-%m-%d')\n",
    "\n",
    "# Verificar errores\n",
    "errores_fecha = df_clean['Date'].isnull().sum()\n",
    "print(f\"\\nErrores en la conversión de fechas: {errores_fecha} filas con fecha inválida.\")"
   ]
  },
  {
   "cell_type": "code",
   "execution_count": 59,
   "metadata": {},
   "outputs": [
    {
     "name": "stdout",
     "output_type": "stream",
     "text": [
      "0    2024-10-01\n",
      "1    2024-10-01\n",
      "2    2024-10-01\n",
      "3    2024-10-01\n",
      "4    2024-10-01\n",
      "Name: Date, dtype: object\n"
     ]
    }
   ],
   "source": [
    "print(df_clean['Date'].head())"
   ]
  },
  {
   "cell_type": "code",
   "execution_count": 60,
   "metadata": {},
   "outputs": [
    {
     "name": "stdout",
     "output_type": "stream",
     "text": [
      "Columna 'Stems' creada correctamente.\n"
     ]
    }
   ],
   "source": [
    "# Cambiar el nombre de la columna 'Units Selection' a 'Stems'\n",
    "df_clean.rename(columns={'Units Selection': 'Stems'}, inplace=True)\n",
    "\n",
    "# Verificar que la columna 'Stems' se haya creado correctamente\n",
    "if 'Stems' in df_clean.columns:\n",
    "    print(\"Columna 'Stems' creada correctamente.\")"
   ]
  },
  {
   "cell_type": "code",
   "execution_count": 61,
   "metadata": {},
   "outputs": [
    {
     "name": "stdout",
     "output_type": "stream",
     "text": [
      "Columna 'DueDate' creada correctamente.\n"
     ]
    }
   ],
   "source": [
    "# Cambiar el nombre de la columna date a 'DueDate'\n",
    "df_clean.rename(columns={'Date': 'DueDate'}, inplace=True)\n",
    "\n",
    "# Verificar que la columna 'DueDate' se haya creado correctamente\n",
    "if 'DueDate' in df_clean.columns:\n",
    "    print(\"Columna 'DueDate' creada correctamente.\")"
   ]
  },
  {
   "cell_type": "code",
   "execution_count": 62,
   "metadata": {},
   "outputs": [
    {
     "name": "stdout",
     "output_type": "stream",
     "text": [
      "Columnas de fecha creadas correctamente.\n"
     ]
    }
   ],
   "source": [
    "# Asegurarse de que la columna 'DueDate' esté en formato datetime\n",
    "df_clean['DueDate'] = pd.to_datetime(df_clean['DueDate'], errors='coerce')\n",
    "\n",
    "# Agregar columnas de año, mes y día para análisis\n",
    "df_clean['Year'] = df_clean['DueDate'].dt.year\n",
    "df_clean['Month'] = df_clean['DueDate'].dt.month\n",
    "df_clean['Day'] = df_clean['DueDate'].dt.day\n",
    "\n",
    "# Verificar que las columnas de fecha se hayan creado correctamente\n",
    "if all(col in df_clean.columns for col in ['Year', 'Month', 'Day']):\n",
    "    print(\"Columnas de fecha creadas correctamente.\")\n",
    "\n",
    "# Eliminar la columna 'DueDate'\n",
    "df_clean.drop(columns=['DueDate'], inplace=True)"
   ]
  },
  {
   "cell_type": "code",
   "execution_count": 63,
   "metadata": {},
   "outputs": [
    {
     "name": "stdout",
     "output_type": "stream",
     "text": [
      "Columnas de fecha creadas correctamente.\n"
     ]
    }
   ],
   "source": [
    "# Convertir las columnas de fecha añoa, mes y día a tipo datetime\n",
    "df_clean['DueDate'] = pd.to_datetime(df_clean[['Year', 'Month', 'Day']])\n",
    "\n",
    "# Verificar que las columnas de fecha se hayan creado correctamente\n",
    "if all(col in df_clean.columns for col in ['DueDate']):\n",
    "    print(\"Columnas de fecha creadas correctamente.\")"
   ]
  },
  {
   "cell_type": "code",
   "execution_count": 64,
   "metadata": {},
   "outputs": [
    {
     "name": "stdout",
     "output_type": "stream",
     "text": [
      "         Flower     Color  Stems  Year  Month  Day    DueDate\n",
      "0  Alstroemeria  Burgundy      0  2024     10    1 2024-10-01\n",
      "1  Alstroemeria  DarkPink  11200  2024     10    1 2024-10-01\n",
      "2  Alstroemeria     Green      0  2024     10    1 2024-10-01\n",
      "3  Alstroemeria  Lavender   2400  2024     10    1 2024-10-01\n",
      "4  Alstroemeria    Orange   6000  2024     10    1 2024-10-01\n",
      "           Flower   Color  Stems  Year  Month  Day    DueDate\n",
      "12762  Super Mums  Yellow   1250  2024     12   31 2024-12-31\n",
      "12763    Treefern   Green    180  2024     12   31 2024-12-31\n",
      "12764    Veronica    Pink   4350  2024     12   31 2024-12-31\n",
      "12765    Veronica  Purple   5550  2024     12   31 2024-12-31\n",
      "12766    Veronica   White    150  2024     12   31 2024-12-31\n",
      "<class 'pandas.core.frame.DataFrame'>\n",
      "RangeIndex: 12767 entries, 0 to 12766\n",
      "Data columns (total 7 columns):\n",
      " #   Column   Non-Null Count  Dtype         \n",
      "---  ------   --------------  -----         \n",
      " 0   Flower   12767 non-null  object        \n",
      " 1   Color    12767 non-null  object        \n",
      " 2   Stems    12767 non-null  int64         \n",
      " 3   Year     12767 non-null  int32         \n",
      " 4   Month    12767 non-null  int32         \n",
      " 5   Day      12767 non-null  int32         \n",
      " 6   DueDate  12767 non-null  datetime64[ns]\n",
      "dtypes: datetime64[ns](1), int32(3), int64(1), object(2)\n",
      "memory usage: 548.7+ KB\n",
      "None\n",
      "              Stems     Year         Month           Day  \\\n",
      "count  12767.000000  12767.0  12767.000000  12767.000000   \n",
      "mean    3710.346048   2024.0     10.917992     15.744419   \n",
      "min        0.000000   2024.0     10.000000      1.000000   \n",
      "25%      400.000000   2024.0     10.000000      8.000000   \n",
      "50%     1700.000000   2024.0     11.000000     16.000000   \n",
      "75%     4580.000000   2024.0     12.000000     23.000000   \n",
      "max    82512.000000   2024.0     12.000000     31.000000   \n",
      "std     6028.213003      0.0      0.814598      8.901770   \n",
      "\n",
      "                             DueDate  \n",
      "count                          12767  \n",
      "mean   2024-11-12 21:47:35.016840192  \n",
      "min              2024-10-01 00:00:00  \n",
      "25%              2024-10-22 00:00:00  \n",
      "50%              2024-11-12 00:00:00  \n",
      "75%              2024-12-05 00:00:00  \n",
      "max              2024-12-31 00:00:00  \n",
      "std                              NaN  \n"
     ]
    }
   ],
   "source": [
    "# Mostrar las primeras filas del dataframe\n",
    "print(df_clean.head())\n",
    "\n",
    "# Mostrar las últimas filas del dataframe\n",
    "print(df_clean.tail())\n",
    "\n",
    "# Mostrar información general del dataframe\n",
    "print(df_clean.info())\n",
    "\n",
    "# Mostrar estadísticas descriptivas del dataframe\n",
    "print(df_clean.describe())"
   ]
  },
  {
   "cell_type": "code",
   "execution_count": 65,
   "metadata": {},
   "outputs": [
    {
     "name": "stdout",
     "output_type": "stream",
     "text": [
      "\n",
      "Dataset limpio guardado en: ../data/processed/summary_clean.csv\n"
     ]
    }
   ],
   "source": [
    "# Guardar el dataset limpio\n",
    "output_path = '../data/processed/summary_clean.csv'\n",
    "df_clean.to_csv(output_path, index=False)\n",
    "print(f\"\\nDataset limpio guardado en: {output_path}\") "
   ]
  }
 ],
 "metadata": {
  "kernelspec": {
   "display_name": "venv",
   "language": "python",
   "name": "python3"
  },
  "language_info": {
   "codemirror_mode": {
    "name": "ipython",
    "version": 3
   },
   "file_extension": ".py",
   "mimetype": "text/x-python",
   "name": "python",
   "nbconvert_exporter": "python",
   "pygments_lexer": "ipython3",
   "version": "3.12.5"
  }
 },
 "nbformat": 4,
 "nbformat_minor": 2
}
