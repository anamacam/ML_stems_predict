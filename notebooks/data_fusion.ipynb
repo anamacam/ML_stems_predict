{
 "cells": [
  {
   "cell_type": "code",
   "execution_count": 23,
   "id": "b36362ee",
   "metadata": {},
   "outputs": [],
   "source": [
    "# Importación de librerías necesarias\n",
    "import pandas as pd\n",
    "import os\n"
   ]
  },
  {
   "cell_type": "code",
   "execution_count": 33,
   "id": "9fdd9733",
   "metadata": {},
   "outputs": [],
   "source": [
    "# 1. Cargar los datasets\n",
    "summary_df = pd.read_csv(r'C:\\Users\\User\\Desktop\\ML_stems_predict\\data\\processed\\flor_2021_2024_cleaned.csv')\n",
    "flor_df = pd.read_csv(r'C:\\Users\\User\\Desktop\\ML_stems_predict\\data\\processed\\summary_clean.csv')"
   ]
  },
  {
   "cell_type": "code",
   "execution_count": 32,
   "id": "1030c59b",
   "metadata": {},
   "outputs": [
    {
     "name": "stdout",
     "output_type": "stream",
     "text": [
      "Datos fusionados y guardados como 'datos_sin_due_date.csv'\n"
     ]
    }
   ],
   "source": [
    "# 2. Unir los datasets verticalmente\n",
    "merged_df = pd.concat([summary_df, flor_df], ignore_index=True)\n",
    "\n",
    "# 3. Eliminar la columna DueDate\n",
    "merged_df = merged_df.drop(columns=['DueDate'])\n",
    "\n",
    "# 4. Eliminar filas duplicadas (opcional)\n",
    "merged_df = merged_df.drop_duplicates()\n",
    "\n",
    "# 5. Guardar el resultado\n",
    "merged_df.to_csv('datos_sin_due_date.csv', index=False)\n",
    "\n",
    "print(\"Datos fusionados y guardados como 'datos_sin_due_date.csv'\")"
   ]
  },
  {
   "cell_type": "code",
   "execution_count": 34,
   "id": "3d943ff6",
   "metadata": {},
   "outputs": [
    {
     "name": "stdout",
     "output_type": "stream",
     "text": [
      "\n",
      "Dataset fusionado en: ../data/processed/merged_clean.csv\n"
     ]
    }
   ],
   "source": [
    "# Guardar el dataset limpio\n",
    "output_path = '../data/processed/merged_clean.csv'\n",
    "merged_df.to_csv(output_path, index=False)\n",
    "print(f\"\\nDataset fusionado en: {output_path}\")"
   ]
  }
 ],
 "metadata": {
  "kernelspec": {
   "display_name": "venv",
   "language": "python",
   "name": "python3"
  },
  "language_info": {
   "codemirror_mode": {
    "name": "ipython",
    "version": 3
   },
   "file_extension": ".py",
   "mimetype": "text/x-python",
   "name": "python",
   "nbconvert_exporter": "python",
   "pygments_lexer": "ipython3",
   "version": "3.12.5"
  }
 },
 "nbformat": 4,
 "nbformat_minor": 5
}
